{
 "cells": [
  {
   "cell_type": "code",
   "execution_count": 0,
   "metadata": {
    "colab": {
     "base_uri": "https://localhost:8080/",
     "height": 121
    },
    "colab_type": "code",
    "id": "NvyyHfqzoDW2",
    "outputId": "0b93dff8-b9a5-4bc0-d1bd-d58d5b96d1ac"
   },
   "outputs": [
    {
     "name": "stdout",
     "output_type": "stream",
     "text": [
      "Go to this URL in a browser: https://accounts.google.com/o/oauth2/auth?client_id=947318989803-6bn6qk8qdgf4n4g3pfee6491hc0brc4i.apps.googleusercontent.com&redirect_uri=urn%3Aietf%3Awg%3Aoauth%3A2.0%3Aoob&scope=email%20https%3A%2F%2Fwww.googleapis.com%2Fauth%2Fdocs.test%20https%3A%2F%2Fwww.googleapis.com%2Fauth%2Fdrive%20https%3A%2F%2Fwww.googleapis.com%2Fauth%2Fdrive.photos.readonly%20https%3A%2F%2Fwww.googleapis.com%2Fauth%2Fpeopleapi.readonly&response_type=code\n",
      "\n",
      "Enter your authorization code:\n",
      "··········\n",
      "Mounted at /content/gdrive\n"
     ]
    }
   ],
   "source": [
    "from google.colab import drive\n",
    "\n",
    "drive.mount('/content/gdrive')\n",
    "root_path = 'gdrive/My Drive/'"
   ]
  },
  {
   "cell_type": "code",
   "execution_count": 1,
   "metadata": {
    "colab": {},
    "colab_type": "code",
    "id": "Ld9Q-J0BjTPg"
   },
   "outputs": [],
   "source": [
    "# all modules/dependencies\n",
    "import torch\n",
    "import torch.nn as nn\n",
    "import torch.optim as optim\n",
    "from torch.optim import lr_scheduler\n",
    "import numpy as np\n",
    "import torchvision\n",
    "from torchvision import datasets, models, transforms\n",
    "import matplotlib.pyplot as plt\n",
    "import time\n",
    "import os\n",
    "import copy\n",
    "\n",
    "plt.ion()"
   ]
  },
  {
   "cell_type": "code",
   "execution_count": 12,
   "metadata": {
    "colab": {},
    "colab_type": "code",
    "id": "nHW5AWhajTPj"
   },
   "outputs": [],
   "source": [
    "data_dir = \"data_transfer\"\n",
    "\n",
    "mean = [0.485, 0.456, 0.406]\n",
    "std = [0.229, 0.224, 0.225]\n",
    "\n",
    "#data transformation\n",
    "data_transforms = {\n",
    "   'train': transforms.Compose([\n",
    "       transforms.Resize(size=(152,152)),\n",
    "       transforms.ToTensor(),\n",
    "       transforms.Normalize(mean, std)\n",
    "   ]),\n",
    "   'validation': transforms.Compose([\n",
    "       transforms.Resize(size=(152,152)),\n",
    "       transforms.ToTensor(),\n",
    "       transforms.Normalize(mean, std)\n",
    "   ]),\n",
    "}\n"
   ]
  },
  {
   "cell_type": "code",
   "execution_count": 13,
   "metadata": {
    "colab": {},
    "colab_type": "code",
    "id": "XLY35r_wjTPm"
   },
   "outputs": [],
   "source": [
    "image_datasets = {\n",
    "   x: datasets.ImageFolder(\n",
    "       os.path.join(data_dir, x),\n",
    "       transform=data_transforms[x]\n",
    "   )\n",
    "   for x in ['train', 'validation']\n",
    "}\n",
    "\n",
    "dataloaders = {\n",
    "   x: torch.utils.data.DataLoader(\n",
    "       image_datasets[x], batch_size=32,\n",
    "       shuffle=True, num_workers=4\n",
    "   )\n",
    "   for x in ['train', 'validation']\n",
    "}"
   ]
  },
  {
   "cell_type": "code",
   "execution_count": 14,
   "metadata": {
    "colab": {
     "base_uri": "https://localhost:8080/",
     "height": 50
    },
    "colab_type": "code",
    "id": "ncz2aQVDomUj",
    "outputId": "ad9676a7-78c8-40f3-d3fe-842352cf3399"
   },
   "outputs": [
    {
     "name": "stdout",
     "output_type": "stream",
     "text": [
      "{'train': 777, 'validation': 256}\n",
      "cpu\n"
     ]
    }
   ],
   "source": [
    "dataset_sizes = {x: len(image_datasets[x]) for x in ['train', 'validation']}\n",
    "\n",
    "print(dataset_sizes)\n",
    "class_names = image_datasets['train'].classes\n",
    "\n",
    "device = torch.device(\"cuda:0\" if torch.cuda.is_available() else \"cpu\")\n",
    "print(device)"
   ]
  },
  {
   "cell_type": "code",
   "execution_count": 5,
   "metadata": {
    "colab": {},
    "colab_type": "code",
    "id": "gRLqE6NIovrJ"
   },
   "outputs": [],
   "source": [
    "def imshow(inp, title=None):\n",
    "    \"\"\"Imshow for Tensor.\"\"\"\n",
    "    inp = inp.numpy().transpose((1, 2, 0))\n",
    "    mean = np.array([0.485, 0.456, 0.406])\n",
    "    std = np.array([0.229, 0.224, 0.225])\n",
    "    inp = std * inp + mean\n",
    "    inp = np.clip(inp, 0, 1)\n",
    "    plt.imshow(inp)\n",
    "    if title is not None:\n",
    "        plt.title(title)\n",
    "    plt.pause(0.001) "
   ]
  },
  {
   "cell_type": "code",
   "execution_count": 7,
   "metadata": {
    "colab": {
     "base_uri": "https://localhost:8080/",
     "height": 202
    },
    "colab_type": "code",
    "id": "R5pDHAbGjTP2",
    "outputId": "e869c150-a2bb-48c1-d7e1-11a88810d3b9"
   },
   "outputs": [
    {
     "name": "stdout",
     "output_type": "stream",
     "text": [
      "Net(\n",
      "  (conv1): Conv2d(3, 16, kernel_size=(5, 5), stride=(1, 1))\n",
      "  (pool): MaxPool2d(kernel_size=2, stride=2, padding=0, dilation=1, ceil_mode=False)\n",
      "  (conv2): Conv2d(16, 32, kernel_size=(5, 5), stride=(1, 1))\n",
      "  (conv3): Conv2d(32, 64, kernel_size=(5, 5), stride=(1, 1))\n",
      "  (conv4): Conv2d(64, 128, kernel_size=(5, 5), stride=(1, 1))\n",
      "  (dropout): Dropout(p=0.2)\n",
      "  (fc1): Linear(in_features=131072, out_features=2048, bias=True)\n",
      "  (fc2): Linear(in_features=2048, out_features=512, bias=True)\n",
      "  (fc3): Linear(in_features=512, out_features=2, bias=True)\n",
      ")\n"
     ]
    }
   ],
   "source": [
    "import torch.nn as nn\n",
    "import torch.nn.functional as F\n",
    "train_on_gpu = torch.cuda.is_available()\n",
    "\n",
    "class Net(nn.Module):\n",
    "    def __init__(self):\n",
    "        super(Net, self).__init__()\n",
    "        # convolutional layer\n",
    "        self.conv1 = nn.Conv2d(3, 16, 5)\n",
    "        #self.relu = nn.ReLU()\n",
    "        # max pooling layer\n",
    "        self.pool = nn.MaxPool2d(2, 2)\n",
    "        self.conv2 = nn.Conv2d(16, 32, 5)\n",
    "        self.conv3 = nn.Conv2d(32, 64, 5)\n",
    "        self.conv4 = nn.Conv2d(64, 128, 5)\n",
    "        self.dropout = nn.Dropout(0.2)\n",
    "        self.fc1 = nn.Linear(128*32*32, 2048)\n",
    "        self.fc2 = nn.Linear(2048, 512)\n",
    "        self.fc3 = nn.Linear(512, 2)\n",
    "\n",
    "        \n",
    "    def forward(self, x):\n",
    "        # add sequence of convolutional and max pooling layers\n",
    "        x = F.relu(self.conv1(x))\n",
    "        x = self.pool(F.relu(self.conv2(x)))\n",
    "        x = F.relu(self.conv3(x))\n",
    "        x = self.pool(F.relu(self.conv4(x)))\n",
    "        x = self.dropout(x)\n",
    "        x = x.view(-1, 128 * 32 * 32)\n",
    "        x = F.relu(self.fc1(x))\n",
    "        x = self.dropout(F.relu(self.fc2(x)))\n",
    "        x = F.softmax(F.relu(self.fc3(x)))\n",
    "        return x\n",
    "\n",
    "# create a complete CNN\n",
    "model = Net()\n",
    "\n",
    "model = model.to(device)\n",
    "\n",
    "print(model)\n",
    "\n",
    "# move tensors to GPU if CUDA is available\n"
   ]
  },
  {
   "cell_type": "code",
   "execution_count": 0,
   "metadata": {
    "colab": {},
    "colab_type": "code",
    "id": "ZaAQADhFo5TB"
   },
   "outputs": [],
   "source": [
    "def train_model(model, criterion, optimizer, num_epochs):\n",
    "    since = time.time()\n",
    "\n",
    "    best_model_wts = copy.deepcopy(model.state_dict())\n",
    "    best_acc = 0.0\n",
    "\n",
    "    for epoch in range(num_epochs):\n",
    "        print('Epoch {}/{}'.format(epoch, num_epochs - 1))\n",
    "        print('-' * 10)\n",
    "\n",
    "        # Each epoch has a training and validation phase\n",
    "        for phase in ['train', 'validation']:\n",
    "            if phase == 'train':\n",
    "                model.train()  # Set model to training mode\n",
    "            else:\n",
    "                model.eval()   # Set model to evaluate mode\n",
    "\n",
    "            running_loss = 0.0\n",
    "            running_corrects = 0\n",
    "\n",
    "            # Iterate over data.\n",
    "            for inputs, labels in dataloaders[phase]:\n",
    "                inputs = inputs.to(device)\n",
    "                labels = labels.to(device)\n",
    "\n",
    "                # zero the parameter gradients\n",
    "                optimizer.zero_grad()\n",
    "\n",
    "                # forward\n",
    "                # track history if only in train\n",
    "                with torch.set_grad_enabled(phase == 'train'):\n",
    "                    outputs = model(inputs)\n",
    "                    _, preds = torch.max(outputs, 1)\n",
    "                    loss = criterion(outputs, labels)\n",
    "\n",
    "                    # backward + optimize only if in training phase\n",
    "                    if phase == 'train':\n",
    "                        loss.backward()\n",
    "                        optimizer.step()\n",
    "\n",
    "                # statistics\n",
    "                running_loss += loss.item() * inputs.size(0)\n",
    "                running_corrects += torch.sum(preds == labels.data)\n",
    "\n",
    "            epoch_loss = running_loss / dataset_sizes[phase]\n",
    "            epoch_acc = running_corrects.double() / dataset_sizes[phase]\n",
    "\n",
    "            print('{} Loss: {:.4f} Acc: {:.4f}'.format(\n",
    "                phase, epoch_loss, epoch_acc))\n",
    "\n",
    "            # deep copy the model\n",
    "            if phase == 'validation' and epoch_acc > best_acc:\n",
    "                best_acc = epoch_acc\n",
    "                best_model_wts = copy.deepcopy(model.state_dict())\n",
    "\n",
    "        print()\n",
    "\n",
    "    time_elapsed = time.time() - since\n",
    "    print('Training complete in {:.0f}m {:.0f}s'.format(\n",
    "        time_elapsed // 60, time_elapsed % 60))\n",
    "    print('Best val Acc: {:4f}'.format(best_acc))\n",
    "\n",
    "    # load best model weights\n",
    "    model.load_state_dict(best_model_wts)\n",
    "    torch.save(best_model_wts, 'model_facial_custom_cnn_v3.pt')\n",
    "    \n",
    "    return model"
   ]
  },
  {
   "cell_type": "code",
   "execution_count": 0,
   "metadata": {
    "colab": {},
    "colab_type": "code",
    "id": "MaNXGQIJphXG"
   },
   "outputs": [],
   "source": [
    "def visualize_model(model, num_images=6):\n",
    "    was_training = model.training\n",
    "    model.eval()\n",
    "    images_so_far = 0\n",
    "    fig = plt.figure()\n",
    "\n",
    "    with torch.no_grad():\n",
    "        for i, (inputs, labels) in enumerate(dataloaders['validation']):\n",
    "            inputs = inputs.to(device)\n",
    "            labels = labels.to(device)\n",
    "\n",
    "            outputs = model(inputs)\n",
    "            _, preds = torch.max(outputs, 1)\n",
    "            \n",
    "            for j in range(inputs.size()[0]):\n",
    "                images_so_far += 1\n",
    "                ax = plt.subplot(num_images//2, 2, images_so_far)\n",
    "                ax.axis('off')\n",
    "                ax.set_title('predicted: {} truth: {}'.format(class_names[preds[j]], class_names[labels[j]]))\n",
    "                img = inputs.cpu().data[j].numpy().transpose((1, 2, 0))\n",
    "                img = std * img + mean\n",
    "                ax.imshow(img)\n",
    "                \n",
    "                if images_so_far == num_images:\n",
    "                    model.train(mode=was_training)\n",
    "                    return\n",
    "        model.train(mode=was_training)"
   ]
  },
  {
   "cell_type": "code",
   "execution_count": 0,
   "metadata": {
    "colab": {
     "base_uri": "https://localhost:8080/",
     "height": 4250
    },
    "colab_type": "code",
    "id": "INIjb-_rjTQL",
    "outputId": "4531dd89-52c4-41fd-a246-34d13938de5e"
   },
   "outputs": [
    {
     "name": "stdout",
     "output_type": "stream",
     "text": [
      "Epoch 0/49\n",
      "----------\n",
      "train Loss: 0.6898 Acc: 0.5438\n",
      "validation Loss: 0.6958 Acc: 0.5000\n",
      "\n",
      "Epoch 1/49\n",
      "----------\n",
      "train Loss: 0.6869 Acc: 0.5438\n",
      "validation Loss: 0.6927 Acc: 0.5000\n",
      "\n",
      "Epoch 2/49\n",
      "----------\n",
      "train Loss: 0.6799 Acc: 0.5529\n",
      "validation Loss: 0.6789 Acc: 0.5575\n",
      "\n",
      "Epoch 3/49\n",
      "----------\n",
      "train Loss: 0.6432 Acc: 0.6253\n",
      "validation Loss: 0.6316 Acc: 0.7188\n",
      "\n",
      "Epoch 4/49\n",
      "----------\n",
      "train Loss: 0.6919 Acc: 0.4616\n",
      "validation Loss: 0.6931 Acc: 0.5000\n",
      "\n",
      "Epoch 5/49\n",
      "----------\n",
      "train Loss: 0.6931 Acc: 0.4562\n",
      "validation Loss: 0.6931 Acc: 0.5000\n",
      "\n",
      "Epoch 6/49\n",
      "----------\n",
      "train Loss: 0.6931 Acc: 0.4569\n",
      "validation Loss: 0.6931 Acc: 0.5006\n",
      "\n",
      "Epoch 7/49\n",
      "----------\n",
      "train Loss: 0.6602 Acc: 0.5750\n",
      "validation Loss: 0.6241 Acc: 0.6863\n",
      "\n",
      "Epoch 8/49\n",
      "----------\n",
      "train Loss: 0.5992 Acc: 0.7205\n",
      "validation Loss: 0.6285 Acc: 0.7181\n",
      "\n",
      "Epoch 9/49\n",
      "----------\n",
      "train Loss: 0.5986 Acc: 0.7220\n",
      "validation Loss: 0.6305 Acc: 0.6794\n",
      "\n",
      "Epoch 10/49\n",
      "----------\n",
      "train Loss: 0.5866 Acc: 0.7385\n",
      "validation Loss: 0.6062 Acc: 0.7406\n",
      "\n",
      "Epoch 11/49\n",
      "----------\n",
      "train Loss: 0.5860 Acc: 0.7467\n",
      "validation Loss: 0.6156 Acc: 0.6869\n",
      "\n",
      "Epoch 12/49\n",
      "----------\n",
      "train Loss: 0.5778 Acc: 0.7580\n",
      "validation Loss: 0.6008 Acc: 0.7281\n",
      "\n",
      "Epoch 13/49\n",
      "----------\n",
      "train Loss: 0.5712 Acc: 0.7433\n",
      "validation Loss: 0.6372 Acc: 0.6175\n",
      "\n",
      "Epoch 14/49\n",
      "----------\n",
      "train Loss: 0.5161 Acc: 0.7587\n",
      "validation Loss: 0.5177 Acc: 0.7594\n",
      "\n",
      "Epoch 15/49\n",
      "----------\n",
      "train Loss: 0.4907 Acc: 0.7734\n",
      "validation Loss: 0.5001 Acc: 0.7644\n",
      "\n",
      "Epoch 16/49\n",
      "----------\n",
      "train Loss: 0.4818 Acc: 0.7765\n",
      "validation Loss: 0.4868 Acc: 0.7712\n",
      "\n",
      "Epoch 17/49\n",
      "----------\n",
      "train Loss: 0.4635 Acc: 0.7958\n",
      "validation Loss: 0.4777 Acc: 0.7800\n",
      "\n",
      "Epoch 18/49\n",
      "----------\n",
      "train Loss: 0.4517 Acc: 0.7953\n",
      "validation Loss: 0.4824 Acc: 0.7700\n",
      "\n",
      "Epoch 19/49\n",
      "----------\n",
      "train Loss: 0.4364 Acc: 0.8057\n",
      "validation Loss: 0.5366 Acc: 0.7531\n",
      "\n",
      "Epoch 20/49\n",
      "----------\n",
      "train Loss: 0.4256 Acc: 0.8140\n",
      "validation Loss: 0.4507 Acc: 0.7844\n",
      "\n",
      "Epoch 21/49\n",
      "----------\n",
      "train Loss: 0.4123 Acc: 0.8137\n",
      "validation Loss: 0.4467 Acc: 0.7938\n",
      "\n",
      "Epoch 22/49\n",
      "----------\n",
      "train Loss: 0.3888 Acc: 0.8304\n",
      "validation Loss: 0.4935 Acc: 0.7538\n",
      "\n",
      "Epoch 23/49\n",
      "----------\n",
      "train Loss: 0.3684 Acc: 0.8356\n",
      "validation Loss: 0.4085 Acc: 0.8144\n",
      "\n",
      "Epoch 24/49\n",
      "----------\n",
      "train Loss: 0.3399 Acc: 0.8532\n",
      "validation Loss: 0.4353 Acc: 0.8200\n",
      "\n",
      "Epoch 25/49\n",
      "----------\n",
      "train Loss: 0.3185 Acc: 0.8612\n",
      "validation Loss: 0.3743 Acc: 0.8325\n",
      "\n",
      "Epoch 26/49\n",
      "----------\n",
      "train Loss: 0.2888 Acc: 0.8820\n",
      "validation Loss: 0.4222 Acc: 0.8300\n",
      "\n",
      "Epoch 27/49\n",
      "----------\n",
      "train Loss: 0.2478 Acc: 0.8955\n",
      "validation Loss: 0.3458 Acc: 0.8744\n",
      "\n",
      "Epoch 28/49\n",
      "----------\n",
      "train Loss: 0.2056 Acc: 0.9191\n",
      "validation Loss: 0.5227 Acc: 0.8006\n",
      "\n",
      "Epoch 29/49\n",
      "----------\n",
      "train Loss: 0.2134 Acc: 0.9150\n",
      "validation Loss: 0.5040 Acc: 0.8506\n",
      "\n",
      "Epoch 30/49\n",
      "----------\n",
      "train Loss: 0.1248 Acc: 0.9556\n",
      "validation Loss: 0.5619 Acc: 0.8413\n",
      "\n",
      "Epoch 31/49\n",
      "----------\n",
      "train Loss: 0.1261 Acc: 0.9499\n",
      "validation Loss: 0.2984 Acc: 0.9044\n",
      "\n",
      "Epoch 32/49\n",
      "----------\n",
      "train Loss: 0.0898 Acc: 0.9673\n",
      "validation Loss: 0.7024 Acc: 0.8163\n",
      "\n",
      "Epoch 33/49\n",
      "----------\n",
      "train Loss: 0.0429 Acc: 0.9850\n",
      "validation Loss: 0.3370 Acc: 0.9188\n",
      "\n",
      "Epoch 34/49\n",
      "----------\n",
      "train Loss: 0.0692 Acc: 0.9757\n",
      "validation Loss: 0.5422 Acc: 0.8800\n",
      "\n",
      "Epoch 35/49\n",
      "----------\n",
      "train Loss: 0.0514 Acc: 0.9811\n",
      "validation Loss: 0.3755 Acc: 0.8925\n",
      "\n",
      "Epoch 36/49\n",
      "----------\n",
      "train Loss: 0.0532 Acc: 0.9842\n",
      "validation Loss: 0.3889 Acc: 0.8912\n",
      "\n",
      "Epoch 37/49\n",
      "----------\n",
      "train Loss: 0.0415 Acc: 0.9842\n",
      "validation Loss: 0.5992 Acc: 0.8681\n",
      "\n",
      "Epoch 38/49\n",
      "----------\n",
      "train Loss: 0.0326 Acc: 0.9881\n",
      "validation Loss: 0.5790 Acc: 0.8881\n",
      "\n",
      "Epoch 39/49\n",
      "----------\n",
      "train Loss: 0.0178 Acc: 0.9931\n",
      "validation Loss: 0.4413 Acc: 0.9031\n",
      "\n",
      "Epoch 40/49\n",
      "----------\n",
      "train Loss: 0.0351 Acc: 0.9861\n",
      "validation Loss: 0.5293 Acc: 0.8925\n",
      "\n",
      "Epoch 41/49\n",
      "----------\n",
      "train Loss: 0.0108 Acc: 0.9952\n",
      "validation Loss: 0.6176 Acc: 0.8950\n",
      "\n",
      "Epoch 42/49\n",
      "----------\n",
      "train Loss: 0.0069 Acc: 0.9978\n",
      "validation Loss: 0.6179 Acc: 0.8950\n",
      "\n",
      "Epoch 43/49\n",
      "----------\n",
      "train Loss: 0.0164 Acc: 0.9952\n",
      "validation Loss: 0.7301 Acc: 0.8681\n",
      "\n",
      "Epoch 44/49\n",
      "----------\n",
      "train Loss: 0.0061 Acc: 0.9989\n",
      "validation Loss: 0.8111 Acc: 0.8769\n",
      "\n",
      "Epoch 45/49\n",
      "----------\n",
      "train Loss: 0.0009 Acc: 1.0000\n",
      "validation Loss: 0.8415 Acc: 0.8831\n",
      "\n",
      "Epoch 46/49\n",
      "----------\n",
      "train Loss: 0.0005 Acc: 1.0000\n",
      "validation Loss: 0.7620 Acc: 0.8944\n",
      "\n",
      "Epoch 47/49\n",
      "----------\n",
      "train Loss: 0.0003 Acc: 1.0000\n",
      "validation Loss: 0.8454 Acc: 0.8912\n",
      "\n",
      "Epoch 48/49\n",
      "----------\n",
      "train Loss: 0.0002 Acc: 1.0000\n",
      "validation Loss: 0.8053 Acc: 0.8938\n",
      "\n",
      "Epoch 49/49\n",
      "----------\n",
      "train Loss: 0.0002 Acc: 1.0000\n",
      "validation Loss: 0.8459 Acc: 0.8938\n",
      "\n",
      "Training complete in 24m 57s\n",
      "Best val Acc: 0.918750\n"
     ]
    }
   ],
   "source": [
    "# specify loss function\n",
    "criterion = torch.nn.CrossEntropyLoss()\n",
    "\n",
    "# specify optimizer\n",
    "optimizer = torch.optim.SGD(model.parameters(), lr = 0.001, momentum= 0.9)\n",
    "\n",
    "model = model.to(device)\n",
    "\n",
    "model = train_model(model, criterion, optimizer, num_epochs=50)"
   ]
  },
  {
   "cell_type": "code",
   "execution_count": 0,
   "metadata": {
    "colab": {
     "base_uri": "https://localhost:8080/",
     "height": 331
    },
    "colab_type": "code",
    "id": "KmNXXSKEsJZN",
    "outputId": "e1720921-f17b-45a3-bd20-b3fd0197999f"
   },
   "outputs": [
    {
     "name": "stderr",
     "output_type": "stream",
     "text": [
      "Clipping input data to the valid range for imshow with RGB data ([0..1] for floats or [0..255] for integers).\n",
      "Clipping input data to the valid range for imshow with RGB data ([0..1] for floats or [0..255] for integers).\n",
      "Clipping input data to the valid range for imshow with RGB data ([0..1] for floats or [0..255] for integers).\n"
     ]
    },
    {
     "data": {
      "image/png": "[encoded data removed]",
      "text/plain": [
       "<Figure size 432x288 with 6 Axes>"
      ]
     },
     "metadata": {
      "tags": []
     },
     "output_type": "display_data"
    }
   ],
   "source": [
    "visualize_model(model)"
   ]
  },
  {
   "cell_type": "code",
   "execution_count": 0,
   "metadata": {
    "colab": {},
    "colab_type": "code",
    "id": "dNhFAXou1P2H"
   },
   "outputs": [],
   "source": [
    "#torch.save(model.state_dict(), 'model_facial_custom_cnn_v2.pt')"
   ]
  },
  {
   "cell_type": "code",
   "execution_count": 0,
   "metadata": {
    "colab": {
     "base_uri": "https://localhost:8080/",
     "height": 70
    },
    "colab_type": "code",
    "id": "MKYjYPkrSnwi",
    "outputId": "a418cc67-3b65-4fd3-c649-ffee818c1360"
   },
   "outputs": [
    {
     "name": "stderr",
     "output_type": "stream",
     "text": [
      "/usr/local/lib/python3.6/dist-packages/torch/serialization.py:256: UserWarning: Couldn't retrieve source code for container of type Net. It won't be checked for correctness upon loading.\n",
      "  \"type \" + obj.__name__ + \". It won't be checked \"\n"
     ]
    }
   ],
   "source": [
    "checkpoint = {'model': Net(),\n",
    "          'state_dict': model.state_dict(),\n",
    "          'optimizer' : optimizer.state_dict()}\n",
    "\n",
    "torch.save(checkpoint, 'checkpoint.pth')"
   ]
  },
  {
   "cell_type": "code",
   "execution_count": 9,
   "metadata": {
    "colab": {},
    "colab_type": "code",
    "id": "kunEWVrGS1S6"
   },
   "outputs": [],
   "source": [
    "def load_checkpoint(filepath):\n",
    "    checkpoint = torch.load(filepath,map_location='cpu')\n",
    "    model = checkpoint['model']\n",
    "    model.load_state_dict(checkpoint['state_dict'])\n",
    "    for parameter in model.parameters():\n",
    "        parameter.requires_grad = False\n",
    "\n",
    "    model.eval()\n",
    "    return model\n",
    "\n",
    "model = load_checkpoint('checkpoint.pth')"
   ]
  },
  {
   "cell_type": "code",
   "execution_count": 0,
   "metadata": {
    "colab": {
     "base_uri": "https://localhost:8080/",
     "height": 269
    },
    "colab_type": "code",
    "id": "wk359N4SsZ7E",
    "outputId": "c1e00bf5-d6d5-4624-bf9c-34b7f5b22790"
   },
   "outputs": [
    {
     "name": "stdout",
     "output_type": "stream",
     "text": [
      "Model's state_dict:\n",
      "conv1.weight \t torch.Size([16, 3, 5, 5])\n",
      "conv1.bias \t torch.Size([16])\n",
      "conv2.weight \t torch.Size([32, 16, 5, 5])\n",
      "conv2.bias \t torch.Size([32])\n",
      "conv3.weight \t torch.Size([64, 32, 5, 5])\n",
      "conv3.bias \t torch.Size([64])\n",
      "conv4.weight \t torch.Size([128, 64, 5, 5])\n",
      "conv4.bias \t torch.Size([128])\n",
      "fc1.weight \t torch.Size([2048, 131072])\n",
      "fc1.bias \t torch.Size([2048])\n",
      "fc2.weight \t torch.Size([512, 2048])\n",
      "fc2.bias \t torch.Size([512])\n",
      "fc3.weight \t torch.Size([2, 512])\n",
      "fc3.bias \t torch.Size([2])\n"
     ]
    }
   ],
   "source": [
    "print(\"Model's state_dict:\")\n",
    "for param_tensor in model.state_dict():\n",
    "    print(param_tensor, \"\\t\", model.state_dict()[param_tensor].size())\n",
    "\n",
    "# Print optimizer's state_dict\n",
    "#print(\"Optimizer's state_dict:\")\n",
    "#for var_name in optimizer.state_dict():\n",
    "#    print(var_name, \"\\t\", optimizer.state_dict()[var_name])"
   ]
  },
  {
   "cell_type": "code",
   "execution_count": 0,
   "metadata": {
    "colab": {
     "base_uri": "https://localhost:8080/",
     "height": 34
    },
    "colab_type": "code",
    "id": "f7fMfMdoueL0",
    "outputId": "80c5280b-84a6-4267-f5cd-92bd00bf8761"
   },
   "outputs": [
    {
     "name": "stdout",
     "output_type": "stream",
     "text": [
      "['1_happy', '0_sad']\n"
     ]
    }
   ],
   "source": [
    "data_path = \"../content/gdrive/My Drive/new_data/train\"\n",
    "data_dir_list = os.listdir(data_path)\n",
    "print(data_dir_list)"
   ]
  },
  {
   "cell_type": "code",
   "execution_count": 0,
   "metadata": {
    "colab": {
     "base_uri": "https://localhost:8080/",
     "height": 50
    },
    "colab_type": "code",
    "id": "A_wc7Pc5vKyg",
    "outputId": "7eda5635-690b-45a3-96be-b4b58658bb77"
   },
   "outputs": [
    {
     "name": "stdout",
     "output_type": "stream",
     "text": [
      "Loaded the images of dataset-1_happy\n",
      "\n"
     ]
    }
   ],
   "source": [
    "import cv2\n",
    "n = 0\n",
    "img_data=[]\n",
    "\n",
    "dataset = '1_happy'\n",
    "\n",
    "img_list=os.listdir(data_path+'/'+ dataset)\n",
    "print ('Loaded the images of dataset-'+'{}\\n'.format(dataset))\n",
    "for img in img_list:\n",
    "    input_img=cv2.imread(data_path + '/'+ dataset + '/'+ img )\n",
    "    input_img_resize=cv2.resize(input_img,(152,152))\n",
    "    img_data.append(input_img_resize)\n",
    "    n = n + 1\n",
    "    if (n>=200):\n",
    "        break\n",
    "\n"
   ]
  },
  {
   "cell_type": "code",
   "execution_count": 0,
   "metadata": {
    "colab": {
     "base_uri": "https://localhost:8080/",
     "height": 50
    },
    "colab_type": "code",
    "id": "-TEa09ahvPHM",
    "outputId": "ca0be5fd-7adf-4a83-9865-c4c3ef59fcc9"
   },
   "outputs": [
    {
     "name": "stdout",
     "output_type": "stream",
     "text": [
      "Loaded the images of dataset-0_sad\n",
      "\n"
     ]
    }
   ],
   "source": [
    "dataset = '0_sad'\n",
    "n = 0       \n",
    "img_list=os.listdir(data_path+'/'+ dataset)\n",
    "print ('Loaded the images of dataset-'+'{}\\n'.format(dataset))\n",
    "for img in img_list:\n",
    "    input_img=cv2.imread(data_path + '/'+ dataset + '/'+ img )\n",
    "    input_img_resize=cv2.resize(input_img,(152,152))\n",
    "    img_data.append(input_img_resize)\n",
    "    n = n + 1\n",
    "    if (n>=200):\n",
    "        break\n",
    "    \n",
    "                \n",
    "img_data = np.array(img_data)"
   ]
  },
  {
   "cell_type": "code",
   "execution_count": 0,
   "metadata": {
    "colab": {
     "base_uri": "https://localhost:8080/",
     "height": 34
    },
    "colab_type": "code",
    "id": "BKjyd5o8vWbP",
    "outputId": "34c78799-8791-47a1-eb4f-ce80716bc841"
   },
   "outputs": [
    {
     "data": {
      "text/plain": [
       "(400, 152, 152, 3)"
      ]
     },
     "execution_count": 75,
     "metadata": {
      "tags": []
     },
     "output_type": "execute_result"
    }
   ],
   "source": [
    "img_data.shape"
   ]
  },
  {
   "cell_type": "code",
   "execution_count": 0,
   "metadata": {
    "colab": {},
    "colab_type": "code",
    "id": "fervOgaXwjIS"
   },
   "outputs": [],
   "source": [
    "mean = [0.485, 0.456, 0.406]\n",
    "std = [0.229, 0.224, 0.225]\n",
    "\n",
    "#data transformation\n",
    "trans = transforms.Compose([\n",
    "       transforms.ToPILImage(),\n",
    "       transforms.Resize(size=(152,152)),\n",
    "       transforms.ToTensor(),\n",
    "       transforms.Normalize(mean, std)])\n",
    "\n"
   ]
  },
  {
   "cell_type": "code",
   "execution_count": 0,
   "metadata": {
    "colab": {},
    "colab_type": "code",
    "id": "djut6IUOvrTU"
   },
   "outputs": [],
   "source": [
    "img_data_tensor = trans(img_data[0])"
   ]
  },
  {
   "cell_type": "code",
   "execution_count": 0,
   "metadata": {
    "colab": {},
    "colab_type": "code",
    "id": "7a8Ua2cpxr0K"
   },
   "outputs": [],
   "source": [
    "image = img_data_tensor.unsqueeze(0)"
   ]
  },
  {
   "cell_type": "code",
   "execution_count": 0,
   "metadata": {
    "colab": {
     "base_uri": "https://localhost:8080/",
     "height": 34
    },
    "colab_type": "code",
    "id": "KI4q3xlvx-CV",
    "outputId": "70cb96e1-4ad1-4fa0-abb8-7aeb62c14785"
   },
   "outputs": [
    {
     "data": {
      "text/plain": [
       "torch.Size([1, 3, 152, 152])"
      ]
     },
     "execution_count": 81,
     "metadata": {
      "tags": []
     },
     "output_type": "execute_result"
    }
   ],
   "source": [
    "image.shape"
   ]
  },
  {
   "cell_type": "code",
   "execution_count": 0,
   "metadata": {
    "colab": {},
    "colab_type": "code",
    "id": "6OpcNnhAstTy"
   },
   "outputs": [],
   "source": [
    "with torch.no_grad():\n",
    "    outputs = model(image)\n",
    "    _, predicted = torch.max(outputs.data, 1)\n",
    "    a = model(image)[0]"
   ]
  },
  {
   "cell_type": "code",
   "execution_count": 0,
   "metadata": {
    "colab": {
     "base_uri": "https://localhost:8080/",
     "height": 34
    },
    "colab_type": "code",
    "id": "r7h2CL8L54hW",
    "outputId": "e2716f92-cea6-49b7-eea6-ada12dae4c96"
   },
   "outputs": [
    {
     "data": {
      "text/plain": [
       "tensor([1.9402, 7.5780])"
      ]
     },
     "execution_count": 84,
     "metadata": {
      "tags": []
     },
     "output_type": "execute_result"
    }
   ],
   "source": [
    "a"
   ]
  },
  {
   "cell_type": "code",
   "execution_count": 0,
   "metadata": {
    "colab": {
     "base_uri": "https://localhost:8080/",
     "height": 34
    },
    "colab_type": "code",
    "id": "gBX3rVlzw_M2",
    "outputId": "78646cbb-a5ff-4786-f0f7-b74e87fb7ec0"
   },
   "outputs": [
    {
     "data": {
      "text/plain": [
       "tensor([[1.9402, 7.5780]])"
      ]
     },
     "execution_count": 62,
     "metadata": {
      "tags": []
     },
     "output_type": "execute_result"
    }
   ],
   "source": [
    "outputs"
   ]
  },
  {
   "cell_type": "code",
   "execution_count": 0,
   "metadata": {
    "colab": {},
    "colab_type": "code",
    "id": "7AMGX3oNyGti"
   },
   "outputs": [],
   "source": [
    "def images_to_sprite(data):\n",
    "    \"\"\"Creates the sprite image along with any necessary padding\n",
    "    Args:\n",
    "      data: NxHxW[x3] tensor containing the images.\n",
    "    Returns:\n",
    "      data: Properly shaped HxWx3 image with any necessary padding.\n",
    "    \"\"\"\n",
    "    \n",
    "    data = data.astype(np.float32)\n",
    "    min = np.min(data.reshape((data.shape[0], -1)), axis=1)\n",
    "    data = (data.transpose(1,2,3,0) - min).transpose(3,0,1,2)\n",
    "    max = np.max(data.reshape((data.shape[0], -1)), axis=1)\n",
    "    data = (data.transpose(1,2,3,0) / max).transpose(3,0,1,2)\n",
    "    # Inverting the colors seems to look better for MNIST\n",
    "    #data = 1 - data\n",
    "\n",
    "    n = int(np.ceil(np.sqrt(data.shape[0])))\n",
    "    padding = ((0, n ** 2 - data.shape[0]), (0, 0),\n",
    "            (0, 0)) + ((0, 0),) * (data.ndim - 3)\n",
    "    data = np.pad(data, padding, mode='constant',\n",
    "            constant_values=0)\n",
    "    # Tile the individual thumbnails into an image.\n",
    "    data = data.reshape((n, n) + data.shape[1:]).transpose((0, 2, 1, 3)\n",
    "            + tuple(range(4, data.ndim + 1)))\n",
    "    data = data.reshape((n * data.shape[1], n * data.shape[3]) + data.shape[4:])\n",
    "    data = (data * 152).astype(np.uint8)\n",
    "    return data\n",
    "\n",
    "sprite = images_to_sprite(img_data)\n"
   ]
  },
  {
   "cell_type": "code",
   "execution_count": 0,
   "metadata": {
    "colab": {
     "base_uri": "https://localhost:8080/",
     "height": 34
    },
    "colab_type": "code",
    "id": "lvlO5YI3zj1e",
    "outputId": "59ef0555-0cec-45fe-c8e5-5fb5c6ae9d63"
   },
   "outputs": [
    {
     "data": {
      "text/plain": [
       "True"
      ]
     },
     "execution_count": 77,
     "metadata": {
      "tags": []
     },
     "output_type": "execute_result"
    }
   ],
   "source": [
    "cv2.imwrite('../content/sprite_4_classes.png', sprite)"
   ]
  },
  {
   "cell_type": "code",
   "execution_count": 0,
   "metadata": {
    "colab": {},
    "colab_type": "code",
    "id": "5bsB3m8w3ObK"
   },
   "outputs": [],
   "source": [
    "def get_image_features(im):\n",
    "    image_features = np.zeros((1, 2))\n",
    "    im = trans(im)\n",
    "    im = im.unsqueeze(0)\n",
    "    image_features[0,:] = model(im)[0]\n",
    "    return image_features"
   ]
  },
  {
   "cell_type": "code",
   "execution_count": 0,
   "metadata": {
    "colab": {},
    "colab_type": "code",
    "id": "9bZtl8uk4r7C"
   },
   "outputs": [],
   "source": [
    "image_features_list=[]\n",
    "\n",
    "\n",
    "\n",
    "for img in img_data:\n",
    "    image_features=get_image_features(img)\n",
    "    image_features_list.append(image_features)\n",
    "    \n",
    "    \n"
   ]
  },
  {
   "cell_type": "code",
   "execution_count": 0,
   "metadata": {
    "colab": {
     "base_uri": "https://localhost:8080/",
     "height": 34
    },
    "colab_type": "code",
    "id": "5yAAUw897dkx",
    "outputId": "0f70cd31-f0dc-4b22-f544-c8b127e1fdc7"
   },
   "outputs": [
    {
     "data": {
      "text/plain": [
       "array([[1.94017088, 7.5780344 ]])"
      ]
     },
     "execution_count": 91,
     "metadata": {
      "tags": []
     },
     "output_type": "execute_result"
    }
   ],
   "source": [
    "image_features_list[0]"
   ]
  },
  {
   "cell_type": "code",
   "execution_count": 0,
   "metadata": {
    "colab": {},
    "colab_type": "code",
    "id": "JCXvPpK85glw"
   },
   "outputs": [],
   "source": [
    "image_features_arr=np.asarray(image_features_list)\n",
    "image_features_arr = np.rollaxis(image_features_arr,1,0)\n",
    "image_features_arr = image_features_arr[0,:,:]\n",
    "\n",
    "np.savetxt('feature_vectors_400_samples.txt',image_features_arr)\n",
    "#feature_vectors = np.loadtxt('feature_vectors.txt')\n",
    "pickle.dump(image_features_arr, open('feature_vectors_400_samples.pkl', 'wb'))\n"
   ]
  },
  {
   "cell_type": "code",
   "execution_count": 0,
   "metadata": {
    "colab": {
     "base_uri": "https://localhost:8080/",
     "height": 67
    },
    "colab_type": "code",
    "id": "coeRNctl9TWk",
    "outputId": "79d01a0f-9ce5-4e72-9bd7-723c4a1b82b5"
   },
   "outputs": [
    {
     "name": "stdout",
     "output_type": "stream",
     "text": [
      "feature_vectors_shape: (400, 2)\n",
      "num of images: 400\n",
      "size of individual feature vector: 2\n"
     ]
    }
   ],
   "source": [
    "feature_vectors = np.loadtxt('feature_vectors_400_samples.txt')\n",
    "print (\"feature_vectors_shape:\",feature_vectors.shape)\n",
    "print (\"num of images:\",feature_vectors.shape[0])\n",
    "print (\"size of individual feature vector:\",feature_vectors.shape[1])\n",
    "\n",
    "num_of_samples=feature_vectors.shape[0]\n",
    "num_of_samples_each_class = 200"
   ]
  },
  {
   "cell_type": "code",
   "execution_count": 0,
   "metadata": {
    "colab": {},
    "colab_type": "code",
    "id": "XqAuIR1z1zCr"
   },
   "outputs": [],
   "source": [
    "import numpy as np\n",
    "import matplotlib.pyplot as plt\n",
    "import pickle\n",
    "import tensorflow as tf\n",
    "from tensorflow.contrib.tensorboard.plugins import projector"
   ]
  },
  {
   "cell_type": "code",
   "execution_count": 0,
   "metadata": {
    "colab": {
     "base_uri": "https://localhost:8080/",
     "height": 87
    },
    "colab_type": "code",
    "id": "iTVTtgse95Hn",
    "outputId": "17192385-f515-4e74-b64c-dca5cf6fb2d7"
   },
   "outputs": [
    {
     "name": "stdout",
     "output_type": "stream",
     "text": [
      "WARNING:tensorflow:From /usr/local/lib/python3.6/dist-packages/tensorflow/python/framework/op_def_library.py:263: colocate_with (from tensorflow.python.framework.ops) is deprecated and will be removed in a future version.\n",
      "Instructions for updating:\n",
      "Colocations handled automatically by placer.\n"
     ]
    }
   ],
   "source": [
    "features = tf.Variable(feature_vectors, name='features')"
   ]
  },
  {
   "cell_type": "code",
   "execution_count": 0,
   "metadata": {
    "colab": {},
    "colab_type": "code",
    "id": "NJyJ4Lar99Q0"
   },
   "outputs": [],
   "source": [
    "import numpy as np\n",
    "y = np.ones((400,),dtype='int64')\n",
    "\n",
    "y[0:200]=0\n",
    "y[200:400]=1\n",
    "\n",
    "names = ['happy','sad']"
   ]
  },
  {
   "cell_type": "code",
   "execution_count": 0,
   "metadata": {
    "colab": {
     "base_uri": "https://localhost:8080/",
     "height": 34
    },
    "colab_type": "code",
    "id": "1zApLHbq-jQY",
    "outputId": "f1bb00f6-51ee-4500-ef63-25c89fd57e51"
   },
   "outputs": [
    {
     "data": {
      "text/plain": [
       "11"
      ]
     },
     "execution_count": 3,
     "metadata": {
      "tags": []
     },
     "output_type": "execute_result"
    }
   ],
   "source": [
    "metadata_file = open('metadata_4_classes.tsv', 'w')\n",
    "metadata_file.write('Class\\tName\\n')"
   ]
  },
  {
   "cell_type": "code",
   "execution_count": 0,
   "metadata": {
    "colab": {},
    "colab_type": "code",
    "id": "C691c-pl-5SF"
   },
   "outputs": [],
   "source": [
    "k = 200\n",
    "j = 0\n",
    "for i in range(400):\n",
    "    c = names[y[i]]\n",
    "    if i%k==0:\n",
    "        j=j+1\n",
    "    metadata_file.write('{}\\t{}\\n'.format(j,c))\n",
    "metadata_file.close()"
   ]
  },
  {
   "cell_type": "code",
   "execution_count": 0,
   "metadata": {
    "colab": {},
    "colab_type": "code",
    "id": "WtcBGgyqz1fV"
   },
   "outputs": [],
   "source": [
    "LOG_DIR = '../content/logs'\n",
    "with tf.Session() as sess:\n",
    "    saver = tf.train.Saver([features])\n",
    "\n",
    "    sess.run(features.initializer)\n",
    "    saver.save(sess, os.path.join(LOG_DIR, 'images_4_classes.ckpt'))\n",
    "\n",
    "    config = projector.ProjectorConfig()\n",
    "    # One can add multiple embeddings.\n",
    "    embedding = config.embeddings.add()\n",
    "    embedding.tensor_name = features.name\n",
    "    # Link this tensor to its metadata file (e.g. labels).\n",
    "    embedding.metadata_path = os.path.join(LOG_DIR, 'metadata_4_classes.tsv')\n",
    "    # Comment out if you don't want sprites\n",
    "    embedding.sprite.image_path = os.path.join(LOG_DIR, 'sprite_4_classes.png')\n",
    "    embedding.sprite.single_image_dim.extend([img_data.shape[1], img_data.shape[1]])\n",
    "    # Saves a config file that TensorBoard will read during startup.\n",
    "    projector.visualize_embeddings(tf.summary.FileWriter(LOG_DIR), config)"
   ]
  },
  {
   "cell_type": "code",
   "execution_count": 0,
   "metadata": {
    "colab": {
     "base_uri": "https://localhost:8080/",
     "height": 118
    },
    "colab_type": "code",
    "id": "kgXHLFxa_eAw",
    "outputId": "22b0d21d-560f-436c-af0f-f70f9baec321"
   },
   "outputs": [
    {
     "name": "stdout",
     "output_type": "stream",
     "text": [
      "  adding: content/logs/ (stored 0%)\n",
      "  adding: content/logs/images_4_classes.ckpt.index (deflated 36%)\n",
      "  adding: content/logs/projector_config.pbtxt (deflated 43%)\n",
      "  adding: content/logs/images_4_classes.ckpt.data-00000-of-00001 (deflated 55%)\n",
      "  adding: content/logs/images_4_classes.ckpt.meta (deflated 61%)\n",
      "  adding: content/logs/checkpoint (deflated 41%)\n"
     ]
    }
   ],
   "source": [
    "!zip -r /content/logs.zip /content/logs"
   ]
  },
  {
   "cell_type": "code",
   "execution_count": 10,
   "metadata": {
    "colab": {},
    "colab_type": "code",
    "id": "edXKf2bIABaM"
   },
   "outputs": [],
   "source": [
    "# specify loss function\n",
    "criterion = torch.nn.CrossEntropyLoss()"
   ]
  },
  {
   "cell_type": "code",
   "execution_count": null,
   "metadata": {},
   "outputs": [],
   "source": [
    "with torch.no_grad():\n",
    "    outputs = model(image)\n",
    "    _, predicted = torch.max(outputs.data, 1)\n",
    "    a = model(image)[0]"
   ]
  },
  {
   "cell_type": "code",
   "execution_count": 15,
   "metadata": {},
   "outputs": [
    {
     "name": "stderr",
     "output_type": "stream",
     "text": [
      "c:\\users\\gagan\\envs\\iim\\lib\\site-packages\\ipykernel_launcher.py:32: UserWarning: Implicit dimension choice for softmax has been deprecated. Change the call to include dim=X as an argument.\n"
     ]
    },
    {
     "name": "stdout",
     "output_type": "stream",
     "text": [
      "Test loss: 0.446\n",
      "Accuracy of the network on the test data : 85.938 %\n"
     ]
    }
   ],
   "source": [
    "test_losses = [] # for tracking loss\n",
    "\n",
    "import numpy as np\n",
    "\n",
    "y_true = []\n",
    "\n",
    "y_probs = []\n",
    "\n",
    "y_pred = []\n",
    "\n",
    "total = 0\n",
    "correct = 0\n",
    "\n",
    "\n",
    "# iterate over test data\n",
    "with torch.no_grad():\n",
    "    for inputs, labels in dataloaders['validation']:\n",
    "\n",
    "        # get predicted outputs\n",
    "        outputs = model(inputs)\n",
    "\n",
    "        # getting the index of output tensors with max values\n",
    "        _, classes = torch.max(outputs.data, 1)\n",
    "\n",
    "\n",
    "        y_true += labels.cpu().numpy().tolist()\n",
    "        y_probs += classes.cpu().numpy().tolist()\n",
    "        y_pred += outputs.cpu().detach().tolist()\n",
    "\n",
    "\n",
    "        # for calculating accuracy\n",
    "        total += labels.size(0)\n",
    "        correct += (classes == labels).sum().item() # comparing predictions to true label\n",
    "\n",
    "\n",
    "        test_loss = criterion(outputs, labels)\n",
    "        test_losses.append(test_loss.item())\n",
    "    \n",
    "print(\"Test loss: {:.3f}\".format(np.mean(test_losses)))    \n",
    "print('Accuracy of the network on the test data : {:.3f} %'.format((correct / total) * 100))"
   ]
  },
  {
   "cell_type": "code",
   "execution_count": 21,
   "metadata": {},
   "outputs": [],
   "source": [
    "emotions = [\"happy\",\"sad\"]"
   ]
  },
  {
   "cell_type": "code",
   "execution_count": 17,
   "metadata": {},
   "outputs": [],
   "source": [
    "import sklearn.metrics as metrics\n",
    "\n",
    "def plot_confusion_matrix(y_true, y_pred, classes,\n",
    "                          normalize=False,\n",
    "                          title=None,\n",
    "                          cmap=plt.cm.Blues):\n",
    "    \"\"\"\n",
    "    This function prints and plots the confusion matrix.\n",
    "    Normalization can be applied by setting `normalize=True`.\n",
    "    \"\"\"\n",
    "    if not title:\n",
    "        if normalize:\n",
    "            title = 'Normalized confusion matrix'\n",
    "        else:\n",
    "            title = 'Confusion matrix, without normalization'\n",
    "\n",
    "    # Compute confusion matrix\n",
    "    cm =  metrics.confusion_matrix(y_true, y_pred)\n",
    "    # Only use the labels that appear in the da\n",
    "    if normalize:\n",
    "        cm = cm.astype('float') / cm.sum(axis=1)[:, np.newaxis]\n",
    "        print(\"Normalized confusion matrix\")\n",
    "    else:\n",
    "        print('Confusion matrix, without normalization')\n",
    "\n",
    "    fig, ax = plt.subplots()\n",
    "    im = ax.imshow(cm, interpolation='nearest', cmap=cmap)\n",
    "    ax.figure.colorbar(im, ax=ax)\n",
    "    # We want to show all ticks...\n",
    "    ax.set(xticks=np.arange(cm.shape[1]),\n",
    "           yticks=np.arange(cm.shape[0]),\n",
    "           # ... and label them with the respective list entries\n",
    "           xticklabels=classes, yticklabels=classes,\n",
    "           title=title,\n",
    "           ylabel='True label',\n",
    "           xlabel='Predicted label')\n",
    "\n",
    "    # Rotate the tick labels and set their alignment.\n",
    "    plt.setp(ax.get_xticklabels(), rotation=45, ha=\"right\",\n",
    "             rotation_mode=\"anchor\")\n",
    "\n",
    "    # Loop over data dimensions and create text annotations.\n",
    "    fmt = '.2f' if normalize else 'd'\n",
    "    thresh = cm.max() / 2.\n",
    "    for i in range(cm.shape[0]):\n",
    "        for j in range(cm.shape[1]):\n",
    "            ax.text(j, i, format(cm[i, j], fmt),\n",
    "                    ha=\"center\", va=\"center\",\n",
    "                    color=\"white\" if cm[i, j] > thresh else \"black\")\n",
    "    fig.tight_layout()\n",
    "    return ax"
   ]
  },
  {
   "cell_type": "code",
   "execution_count": 18,
   "metadata": {},
   "outputs": [],
   "source": [
    "import scikitplot as skplt"
   ]
  },
  {
   "cell_type": "code",
   "execution_count": 19,
   "metadata": {},
   "outputs": [],
   "source": [
    "from  sklearn.metrics import precision_recall_fscore_support\n",
    "from sklearn.metrics import roc_curve, auc\n",
    "from sklearn.preprocessing import LabelBinarizer\n",
    "\n",
    "def class_report(y_true, y_pred, y_score=None, average='micro'):\n",
    "    if y_true.shape != y_pred.shape:\n",
    "        print(\"Error! y_true %s is not the same shape as y_pred %s\" % (\n",
    "              y_true.shape,\n",
    "              y_pred.shape)\n",
    "        )\n",
    "        return\n",
    "\n",
    "    lb = LabelBinarizer()\n",
    "\n",
    "    if len(y_true.shape) == 1:\n",
    "        lb.fit(y_true)\n",
    "\n",
    "    #Value counts of predictions\n",
    "    labels, cnt = np.unique(\n",
    "        y_pred,\n",
    "        return_counts=True)\n",
    "    n_classes = len(labels)\n",
    "    pred_cnt = pd.Series(cnt, index=labels)\n",
    "\n",
    "    metrics_summary = precision_recall_fscore_support(\n",
    "            y_true=y_true,\n",
    "            y_pred=y_pred,\n",
    "            labels=labels)\n",
    "\n",
    "    avg = list(precision_recall_fscore_support(\n",
    "            y_true=y_true, \n",
    "            y_pred=y_pred,\n",
    "            average='weighted'))\n",
    "\n",
    "    metrics_sum_index = ['precision', 'recall', 'f1-score', 'support']\n",
    "    class_report_df = pd.DataFrame(\n",
    "        list(metrics_summary),\n",
    "        index=metrics_sum_index,\n",
    "        columns=labels)\n",
    "\n",
    "    support = class_report_df.loc['support']\n",
    "    total = support.sum() \n",
    "    class_report_df['avg / total'] = avg[:-1] + [total]\n",
    "\n",
    "    class_report_df = class_report_df.T\n",
    "    class_report_df['pred'] = pred_cnt\n",
    "    class_report_df['pred'].iloc[-1] = total\n",
    "\n",
    "    if not (y_score is None):\n",
    "        fpr = dict()\n",
    "        tpr = dict()\n",
    "        roc_auc = dict()\n",
    "        for label_it, label in enumerate(labels):\n",
    "            fpr[label], tpr[label], _ = roc_curve(\n",
    "                (y_true == label).astype(int), \n",
    "                y_score[:, label_it])\n",
    "\n",
    "            roc_auc[label] = auc(fpr[label], tpr[label])\n",
    "\n",
    "        if average == 'micro':\n",
    "            if n_classes <= 2:\n",
    "                fpr[\"avg / total\"], tpr[\"avg / total\"], _ = roc_curve(\n",
    "                    lb.transform(y_true).ravel(), \n",
    "                    y_score[:, 1].ravel())\n",
    "            else:\n",
    "                fpr[\"avg / total\"], tpr[\"avg / total\"], _ = roc_curve(\n",
    "                        lb.transform(y_true).ravel(), \n",
    "                        y_score.ravel())\n",
    "\n",
    "            roc_auc[\"avg / total\"] = auc(\n",
    "                fpr[\"avg / total\"], \n",
    "                tpr[\"avg / total\"])\n",
    "\n",
    "        elif average == 'macro':\n",
    "            # First aggregate all false positive rates\n",
    "            all_fpr = np.unique(np.concatenate([\n",
    "                fpr[i] for i in labels]\n",
    "            ))\n",
    "\n",
    "            # Then interpolate all ROC curves at this points\n",
    "            mean_tpr = np.zeros_like(all_fpr)\n",
    "            for i in labels:\n",
    "                mean_tpr += interp(all_fpr, fpr[i], tpr[i])\n",
    "\n",
    "            # Finally average it and compute AUC\n",
    "            mean_tpr /= n_classes\n",
    "\n",
    "            fpr[\"macro\"] = all_fpr\n",
    "            tpr[\"macro\"] = mean_tpr\n",
    "\n",
    "            roc_auc[\"avg / total\"] = auc(fpr[\"macro\"], tpr[\"macro\"])\n",
    "\n",
    "        class_report_df['AUC'] = pd.Series(roc_auc)\n",
    "\n",
    "    return class_report_df, fpr, tpr"
   ]
  },
  {
   "cell_type": "code",
   "execution_count": 22,
   "metadata": {},
   "outputs": [
    {
     "name": "stdout",
     "output_type": "stream",
     "text": [
      "Confusion matrix, without normalization\n",
      "Normalized confusion matrix\n"
     ]
    },
    {
     "name": "stderr",
     "output_type": "stream",
     "text": [
      "c:\\users\\gagan\\envs\\iim\\lib\\site-packages\\sklearn\\utils\\deprecation.py:85: DeprecationWarning: Function plot_roc_curve is deprecated; This will be removed in v0.5.0. Please use scikitplot.metrics.plot_roc instead.\n",
      "  warnings.warn(msg, category=DeprecationWarning)\n"
     ]
    },
    {
     "data": {
      "image/png": "[encoded data removed]",
      "text/plain": [
       "<Figure size 432x288 with 2 Axes>"
      ]
     },
     "metadata": {
      "needs_background": "light"
     },
     "output_type": "display_data"
    },
    {
     "data": {
      "image/png": "[encoded data removed]",
      "text/plain": [
       "<Figure size 432x288 with 2 Axes>"
      ]
     },
     "metadata": {
      "needs_background": "light"
     },
     "output_type": "display_data"
    },
    {
     "data": {
      "image/png": "[encoded data removed]",
      "text/plain": [
       "<Figure size 432x288 with 1 Axes>"
      ]
     },
     "metadata": {
      "needs_background": "light"
     },
     "output_type": "display_data"
    }
   ],
   "source": [
    "y_true = np.array(y_true)\n",
    "\n",
    "y_probs = np.array(y_probs)\n",
    "\n",
    "y_pred = np.array(y_pred)\n",
    "\n",
    "\n",
    "\n",
    "plot_confusion_matrix(y_true, y_probs, classes=emotions, normalize=False, title='confusion matrix')\n",
    "\n",
    "plot_confusion_matrix(y_true, y_probs, classes=emotions, normalize=True, title='confusion matrix')\n",
    "\n",
    "skplt.metrics.plot_roc_curve(y_true, y_pred)\n",
    "plt.show()"
   ]
  },
  {
   "cell_type": "code",
   "execution_count": 24,
   "metadata": {},
   "outputs": [
    {
     "name": "stdout",
     "output_type": "stream",
     "text": [
      "Confusion matrix, without normalization\n"
     ]
    },
    {
     "data": {
      "image/png": "[encoded data removed]",
      "text/plain": [
       "<Figure size 432x288 with 2 Axes>"
      ]
     },
     "metadata": {
      "needs_background": "light"
     },
     "output_type": "display_data"
    }
   ],
   "source": [
    "fig2 = plot_confusion_matrix(y_true, y_probs, classes=emotions, normalize=False, title='confusion matrix')\n",
    "fig2 = fig2.get_figure()\n",
    "fig2.savefig('confusion_mat_custom_cnn.png', dpi=1440)"
   ]
  },
  {
   "cell_type": "code",
   "execution_count": 25,
   "metadata": {},
   "outputs": [
    {
     "name": "stderr",
     "output_type": "stream",
     "text": [
      "c:\\users\\gagan\\envs\\iim\\lib\\site-packages\\sklearn\\utils\\deprecation.py:85: DeprecationWarning: Function plot_roc_curve is deprecated; This will be removed in v0.5.0. Please use scikitplot.metrics.plot_roc instead.\n",
      "  warnings.warn(msg, category=DeprecationWarning)\n"
     ]
    },
    {
     "data": {
      "image/png": "[encoded data removed]",
      "text/plain": [
       "<Figure size 432x288 with 1 Axes>"
      ]
     },
     "metadata": {
      "needs_background": "light"
     },
     "output_type": "display_data"
    }
   ],
   "source": [
    "fig = skplt.metrics.plot_roc_curve(y_true, y_pred)\n",
    "plt.show()\n",
    "fig = fig.get_figure()\n",
    "fig.savefig('roc_custom_cnn.png', dpi=1440)"
   ]
  },
  {
   "cell_type": "code",
   "execution_count": null,
   "metadata": {},
   "outputs": [],
   "source": []
  }
 ],
 "metadata": {
  "accelerator": "GPU",
  "colab": {
   "collapsed_sections": [],
   "name": "face_emotion_classifier_custom_model.ipynb",
   "provenance": [],
   "version": "0.3.2"
  },
  "kernelspec": {
   "display_name": "Python 3",
   "language": "python",
   "name": "python3"
  },
  "language_info": {
   "codemirror_mode": {
    "name": "ipython",
    "version": 3
   },
   "file_extension": ".py",
   "mimetype": "text/x-python",
   "name": "python",
   "nbconvert_exporter": "python",
   "pygments_lexer": "ipython3",
   "version": "3.7.2"
  }
 },
 "nbformat": 4,
 "nbformat_minor": 1
}
